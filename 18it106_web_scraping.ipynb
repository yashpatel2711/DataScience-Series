{
  "nbformat": 4,
  "nbformat_minor": 0,
  "metadata": {
    "colab": {
      "name": "18it106-web-scraping.ipynb",
      "provenance": []
    },
    "kernelspec": {
      "name": "python3",
      "display_name": "Python 3"
    },
    "language_info": {
      "name": "python"
    }
  },
  "cells": [
    {
      "cell_type": "code",
      "metadata": {
        "colab": {
          "base_uri": "https://localhost:8080/"
        },
        "id": "IN9_Tm008wSF",
        "outputId": "4b003877-5b12-4ae5-e7f8-11ef77d82bf3"
      },
      "source": [
        "!pip install beautifulsoup4"
      ],
      "execution_count": 1,
      "outputs": [
        {
          "output_type": "stream",
          "text": [
            "Requirement already satisfied: beautifulsoup4 in /usr/local/lib/python3.7/dist-packages (4.6.3)\n"
          ],
          "name": "stdout"
        }
      ]
    },
    {
      "cell_type": "code",
      "metadata": {
        "id": "tvaEPpuh86w3"
      },
      "source": [
        "import requests\n",
        "from bs4 import BeautifulSoup\n",
        "import pandas as pd"
      ],
      "execution_count": 2,
      "outputs": []
    },
    {
      "cell_type": "code",
      "metadata": {
        "id": "W66fZJrX8-V8"
      },
      "source": [
        "name=[] #List to store name of the series\n",
        "ratings=[]\n",
        "genre=[]\n",
        "year=[]"
      ],
      "execution_count": 3,
      "outputs": []
    },
    {
      "cell_type": "code",
      "metadata": {
        "id": "AJT-mTOx9BuH"
      },
      "source": [
        "url = \"https://www.imdb.com/search/title/?title_type=tv_series&num_votes=100000,&sort=release_date,asc\"\n",
        "content = requests.get(url).content"
      ],
      "execution_count": 4,
      "outputs": []
    },
    {
      "cell_type": "code",
      "metadata": {
        "colab": {
          "base_uri": "https://localhost:8080/",
          "height": 419
        },
        "id": "GulqzjMZ9sWc",
        "outputId": "5c7248d7-5240-4cb2-cc40-35eacaf24828"
      },
      "source": [
        "soup = BeautifulSoup(content,\"html.parser\")\n",
        "\n",
        "for a in soup.findAll('div', attrs={'class':'lister-item mode-advanced'}):\n",
        "    h = a.find('h3', attrs={'class':'lister-item-header'})\n",
        "    a_name=h.find('a', href=True)\n",
        "    a_rating=a.find('div', attrs={'class':'inline-block ratings-imdb-rating'})\n",
        "    a_genre=a.find('span', attrs={'class':'genre'})\n",
        "    a_year=a.find('span', attrs={'class':'lister-item-year text-muted unbold'})\n",
        "    name.append(a_name.text)\n",
        "    ratings.append(a_rating.text.strip(\"\\n\"))\n",
        "    genre.append(a_genre.text.strip(\"\\n\"))\n",
        "    year.append(a_year.text)\n",
        "\n",
        "\n",
        "df=pd.DataFrame({'Series Name':name, ' Release Years':year, 'Ratings':ratings, 'Genre':genre})\n",
        "df.to_csv('/content/18it106-web-scraping.csv', index=False, encoding=\"utf-8-sig\")\n",
        "\n",
        "df"
      ],
      "execution_count": 9,
      "outputs": [
        {
          "output_type": "execute_result",
          "data": {
            "text/html": [
              "<div>\n",
              "<style scoped>\n",
              "    .dataframe tbody tr th:only-of-type {\n",
              "        vertical-align: middle;\n",
              "    }\n",
              "\n",
              "    .dataframe tbody tr th {\n",
              "        vertical-align: top;\n",
              "    }\n",
              "\n",
              "    .dataframe thead th {\n",
              "        text-align: right;\n",
              "    }\n",
              "</style>\n",
              "<table border=\"1\" class=\"dataframe\">\n",
              "  <thead>\n",
              "    <tr style=\"text-align: right;\">\n",
              "      <th></th>\n",
              "      <th>Series Name</th>\n",
              "      <th>Release Years</th>\n",
              "      <th>Ratings</th>\n",
              "      <th>Genre</th>\n",
              "    </tr>\n",
              "  </thead>\n",
              "  <tbody>\n",
              "    <tr>\n",
              "      <th>0</th>\n",
              "      <td>Star Trek: The Next Generation</td>\n",
              "      <td>(1987–1994)</td>\n",
              "      <td>8.6</td>\n",
              "      <td>Action, Adventure, Mystery</td>\n",
              "    </tr>\n",
              "    <tr>\n",
              "      <th>1</th>\n",
              "      <td>Seinfeld</td>\n",
              "      <td>(1989–1998)</td>\n",
              "      <td>8.8</td>\n",
              "      <td>Comedy</td>\n",
              "    </tr>\n",
              "    <tr>\n",
              "      <th>2</th>\n",
              "      <td>Twin Peaks</td>\n",
              "      <td>(1990–1991)</td>\n",
              "      <td>8.8</td>\n",
              "      <td>Crime, Drama, Mystery</td>\n",
              "    </tr>\n",
              "    <tr>\n",
              "      <th>3</th>\n",
              "      <td>The Simpsons</td>\n",
              "      <td>(1989– )</td>\n",
              "      <td>8.6</td>\n",
              "      <td>Animation, Comedy</td>\n",
              "    </tr>\n",
              "    <tr>\n",
              "      <th>4</th>\n",
              "      <td>Mr. Bean</td>\n",
              "      <td>(1990–1995)</td>\n",
              "      <td>8.5</td>\n",
              "      <td>Comedy, Family</td>\n",
              "    </tr>\n",
              "    <tr>\n",
              "      <th>...</th>\n",
              "      <td>...</td>\n",
              "      <td>...</td>\n",
              "      <td>...</td>\n",
              "      <td>...</td>\n",
              "    </tr>\n",
              "    <tr>\n",
              "      <th>245</th>\n",
              "      <td>Bones</td>\n",
              "      <td>(2005–2017)</td>\n",
              "      <td>7.8</td>\n",
              "      <td>Comedy, Crime, Drama</td>\n",
              "    </tr>\n",
              "    <tr>\n",
              "      <th>246</th>\n",
              "      <td>Supernatural</td>\n",
              "      <td>(2005–2020)</td>\n",
              "      <td>8.4</td>\n",
              "      <td>Drama, Fantasy, Horror</td>\n",
              "    </tr>\n",
              "    <tr>\n",
              "      <th>247</th>\n",
              "      <td>How I Met Your Mother</td>\n",
              "      <td>(2005–2014)</td>\n",
              "      <td>8.3</td>\n",
              "      <td>Comedy, Romance</td>\n",
              "    </tr>\n",
              "    <tr>\n",
              "      <th>248</th>\n",
              "      <td>Criminal Minds</td>\n",
              "      <td>(2005–2020)</td>\n",
              "      <td>8.0</td>\n",
              "      <td>Crime, Drama, Mystery</td>\n",
              "    </tr>\n",
              "    <tr>\n",
              "      <th>249</th>\n",
              "      <td>The IT Crowd</td>\n",
              "      <td>(2006–2013)</td>\n",
              "      <td>8.5</td>\n",
              "      <td>Comedy</td>\n",
              "    </tr>\n",
              "  </tbody>\n",
              "</table>\n",
              "<p>250 rows × 4 columns</p>\n",
              "</div>"
            ],
            "text/plain": [
              "                        Series Name  ...                                   Genre\n",
              "0    Star Trek: The Next Generation  ...  Action, Adventure, Mystery            \n",
              "1                          Seinfeld  ...                      Comedy            \n",
              "2                        Twin Peaks  ...       Crime, Drama, Mystery            \n",
              "3                      The Simpsons  ...           Animation, Comedy            \n",
              "4                          Mr. Bean  ...              Comedy, Family            \n",
              "..                              ...  ...                                     ...\n",
              "245                           Bones  ...        Comedy, Crime, Drama            \n",
              "246                    Supernatural  ...      Drama, Fantasy, Horror            \n",
              "247           How I Met Your Mother  ...             Comedy, Romance            \n",
              "248                  Criminal Minds  ...       Crime, Drama, Mystery            \n",
              "249                    The IT Crowd  ...                      Comedy            \n",
              "\n",
              "[250 rows x 4 columns]"
            ]
          },
          "metadata": {
            "tags": []
          },
          "execution_count": 9
        }
      ]
    },
    {
      "cell_type": "code",
      "metadata": {
        "id": "A_YaiaZb-Oju"
      },
      "source": [
        ""
      ],
      "execution_count": null,
      "outputs": []
    }
  ]
}